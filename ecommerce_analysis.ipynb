{
 "cells": [
  {
   "cell_type": "code",
   "execution_count": 1,
   "metadata": {},
   "outputs": [],
   "source": [
    "import pandas as pd"
   ]
  },
  {
   "cell_type": "code",
   "execution_count": 2,
   "metadata": {},
   "outputs": [],
   "source": [
    "# upload txt file to dataframe\n",
    "df = pd.read_csv('data/ecommerce.txt')"
   ]
  },
  {
   "cell_type": "code",
   "execution_count": 3,
   "metadata": {},
   "outputs": [],
   "source": [
    "# convert txt file to csv file\n",
    "df.to_csv('data/ecommerce.csv', index=False)"
   ]
  },
  {
   "cell_type": "code",
   "execution_count": 4,
   "metadata": {},
   "outputs": [
    {
     "data": {
      "text/html": [
       "<div>\n",
       "<style scoped>\n",
       "    .dataframe tbody tr th:only-of-type {\n",
       "        vertical-align: middle;\n",
       "    }\n",
       "\n",
       "    .dataframe tbody tr th {\n",
       "        vertical-align: top;\n",
       "    }\n",
       "\n",
       "    .dataframe thead th {\n",
       "        text-align: right;\n",
       "    }\n",
       "</style>\n",
       "<table border=\"1\" class=\"dataframe\">\n",
       "  <thead>\n",
       "    <tr style=\"text-align: right;\">\n",
       "      <th></th>\n",
       "      <th>Address</th>\n",
       "      <th>Lot</th>\n",
       "      <th>AM or PM</th>\n",
       "      <th>Browser Info</th>\n",
       "      <th>Company</th>\n",
       "      <th>Credit Card</th>\n",
       "      <th>CC Exp Date</th>\n",
       "      <th>CC Security Code</th>\n",
       "      <th>CC Provider</th>\n",
       "      <th>Email</th>\n",
       "      <th>Job</th>\n",
       "      <th>IP Address</th>\n",
       "      <th>Language</th>\n",
       "      <th>Purchase Price</th>\n",
       "    </tr>\n",
       "  </thead>\n",
       "  <tbody>\n",
       "    <tr>\n",
       "      <th>0</th>\n",
       "      <td>16629 Pace Camp Apt. 448\\nAlexisborough, NE 77...</td>\n",
       "      <td>46 in</td>\n",
       "      <td>PM</td>\n",
       "      <td>Opera/9.56.(X11; Linux x86_64; sl-SI) Presto/2...</td>\n",
       "      <td>Martinez-Herman</td>\n",
       "      <td>6011929061123406</td>\n",
       "      <td>02/20</td>\n",
       "      <td>900.0</td>\n",
       "      <td>JCB 16 digit</td>\n",
       "      <td>pdunlap@yahoo.com</td>\n",
       "      <td>Scientist, product/process development</td>\n",
       "      <td>149.146.147.205</td>\n",
       "      <td>el</td>\n",
       "      <td>98.14</td>\n",
       "    </tr>\n",
       "    <tr>\n",
       "      <th>1</th>\n",
       "      <td>9374 Jasmine Spurs Suite 508\\nSouth John, TN 8...</td>\n",
       "      <td>28 rn</td>\n",
       "      <td>PM</td>\n",
       "      <td>Opera/8.93.(Windows 98; Win 9x 4.90; en-US) Pr...</td>\n",
       "      <td>Fletcher, Richards and Whitaker</td>\n",
       "      <td>3337758169645356</td>\n",
       "      <td>11/18</td>\n",
       "      <td>561.0</td>\n",
       "      <td>Mastercard</td>\n",
       "      <td>anthony41@reed.com</td>\n",
       "      <td>Drilling engineer</td>\n",
       "      <td>15.160.41.51</td>\n",
       "      <td>fr</td>\n",
       "      <td>70.73</td>\n",
       "    </tr>\n",
       "    <tr>\n",
       "      <th>2</th>\n",
       "      <td>Unit 0065 Box 5052\\nDPO AP 27450</td>\n",
       "      <td>94 vE</td>\n",
       "      <td>PM</td>\n",
       "      <td>Mozilla/5.0 (compatible; MSIE 9.0; Windows NT ...</td>\n",
       "      <td>Simpson, Williams and Pham</td>\n",
       "      <td>675957666125</td>\n",
       "      <td>08/19</td>\n",
       "      <td>699.0</td>\n",
       "      <td>JCB 16 digit</td>\n",
       "      <td>amymiller@morales-harrison.com</td>\n",
       "      <td>Customer service manager</td>\n",
       "      <td>132.207.160.22</td>\n",
       "      <td>de</td>\n",
       "      <td>0.95</td>\n",
       "    </tr>\n",
       "    <tr>\n",
       "      <th>3</th>\n",
       "      <td>7780 Julia Fords\\nNew Stacy, WA 45798</td>\n",
       "      <td>36 vm</td>\n",
       "      <td>PM</td>\n",
       "      <td>Mozilla/5.0 (Macintosh; Intel Mac OS X 10_8_0 ...</td>\n",
       "      <td>Williams, Marshall and Buchanan</td>\n",
       "      <td>6011578504430710</td>\n",
       "      <td>02/24</td>\n",
       "      <td>384.0</td>\n",
       "      <td>Discover</td>\n",
       "      <td>brent16@olson-robinson.info</td>\n",
       "      <td>Drilling engineer</td>\n",
       "      <td>30.250.74.19</td>\n",
       "      <td>es</td>\n",
       "      <td>78.04</td>\n",
       "    </tr>\n",
       "    <tr>\n",
       "      <th>4</th>\n",
       "      <td>23012 Munoz Drive Suite 337\\nNew Cynthia, TX 5...</td>\n",
       "      <td>20 IE</td>\n",
       "      <td>AM</td>\n",
       "      <td>Opera/9.58.(X11; Linux x86_64; it-IT) Presto/2...</td>\n",
       "      <td>Brown, Watson and Andrews</td>\n",
       "      <td>6011456623207998</td>\n",
       "      <td>10/25</td>\n",
       "      <td>678.0</td>\n",
       "      <td>Diners Club / Carte Blanche</td>\n",
       "      <td>christopherwright@gmail.com</td>\n",
       "      <td>Fine artist</td>\n",
       "      <td>24.140.33.94</td>\n",
       "      <td>es</td>\n",
       "      <td>77.82</td>\n",
       "    </tr>\n",
       "  </tbody>\n",
       "</table>\n",
       "</div>"
      ],
      "text/plain": [
       "                                             Address    Lot AM or PM  \\\n",
       "0  16629 Pace Camp Apt. 448\\nAlexisborough, NE 77...  46 in       PM   \n",
       "1  9374 Jasmine Spurs Suite 508\\nSouth John, TN 8...  28 rn       PM   \n",
       "2                   Unit 0065 Box 5052\\nDPO AP 27450  94 vE       PM   \n",
       "3              7780 Julia Fords\\nNew Stacy, WA 45798  36 vm       PM   \n",
       "4  23012 Munoz Drive Suite 337\\nNew Cynthia, TX 5...  20 IE       AM   \n",
       "\n",
       "                                        Browser Info  \\\n",
       "0  Opera/9.56.(X11; Linux x86_64; sl-SI) Presto/2...   \n",
       "1  Opera/8.93.(Windows 98; Win 9x 4.90; en-US) Pr...   \n",
       "2  Mozilla/5.0 (compatible; MSIE 9.0; Windows NT ...   \n",
       "3  Mozilla/5.0 (Macintosh; Intel Mac OS X 10_8_0 ...   \n",
       "4  Opera/9.58.(X11; Linux x86_64; it-IT) Presto/2...   \n",
       "\n",
       "                           Company       Credit Card CC Exp Date  \\\n",
       "0                  Martinez-Herman  6011929061123406       02/20   \n",
       "1  Fletcher, Richards and Whitaker  3337758169645356       11/18   \n",
       "2       Simpson, Williams and Pham      675957666125       08/19   \n",
       "3  Williams, Marshall and Buchanan  6011578504430710       02/24   \n",
       "4        Brown, Watson and Andrews  6011456623207998       10/25   \n",
       "\n",
       "   CC Security Code                  CC Provider  \\\n",
       "0             900.0                 JCB 16 digit   \n",
       "1             561.0                   Mastercard   \n",
       "2             699.0                 JCB 16 digit   \n",
       "3             384.0                     Discover   \n",
       "4             678.0  Diners Club / Carte Blanche   \n",
       "\n",
       "                            Email                                     Job  \\\n",
       "0               pdunlap@yahoo.com  Scientist, product/process development   \n",
       "1              anthony41@reed.com                       Drilling engineer   \n",
       "2  amymiller@morales-harrison.com                Customer service manager   \n",
       "3     brent16@olson-robinson.info                       Drilling engineer   \n",
       "4     christopherwright@gmail.com                             Fine artist   \n",
       "\n",
       "        IP Address Language  Purchase Price  \n",
       "0  149.146.147.205       el           98.14  \n",
       "1     15.160.41.51       fr           70.73  \n",
       "2   132.207.160.22       de            0.95  \n",
       "3     30.250.74.19       es           78.04  \n",
       "4     24.140.33.94       es           77.82  "
      ]
     },
     "execution_count": 4,
     "metadata": {},
     "output_type": "execute_result"
    }
   ],
   "source": [
    "df.head()"
   ]
  },
  {
   "cell_type": "code",
   "execution_count": 5,
   "metadata": {},
   "outputs": [
    {
     "name": "stdout",
     "output_type": "stream",
     "text": [
      "<class 'pandas.core.frame.DataFrame'>\n",
      "RangeIndex: 1771 entries, 0 to 1770\n",
      "Data columns (total 14 columns):\n",
      " #   Column            Non-Null Count  Dtype  \n",
      "---  ------            --------------  -----  \n",
      " 0   Address           1771 non-null   object \n",
      " 1   Lot               1771 non-null   object \n",
      " 2   AM or PM          1771 non-null   object \n",
      " 3   Browser Info      1771 non-null   object \n",
      " 4   Company           1771 non-null   object \n",
      " 5   Credit Card       1771 non-null   int64  \n",
      " 6   CC Exp Date       1770 non-null   object \n",
      " 7   CC Security Code  1770 non-null   float64\n",
      " 8   CC Provider       1770 non-null   object \n",
      " 9   Email             1770 non-null   object \n",
      " 10  Job               1770 non-null   object \n",
      " 11  IP Address        1770 non-null   object \n",
      " 12  Language          1770 non-null   object \n",
      " 13  Purchase Price    1770 non-null   float64\n",
      "dtypes: float64(2), int64(1), object(11)\n",
      "memory usage: 193.8+ KB\n"
     ]
    }
   ],
   "source": [
    "df.info()"
   ]
  },
  {
   "cell_type": "code",
   "execution_count": 6,
   "metadata": {},
   "outputs": [
    {
     "data": {
      "text/html": [
       "<div>\n",
       "<style scoped>\n",
       "    .dataframe tbody tr th:only-of-type {\n",
       "        vertical-align: middle;\n",
       "    }\n",
       "\n",
       "    .dataframe tbody tr th {\n",
       "        vertical-align: top;\n",
       "    }\n",
       "\n",
       "    .dataframe thead th {\n",
       "        text-align: right;\n",
       "    }\n",
       "</style>\n",
       "<table border=\"1\" class=\"dataframe\">\n",
       "  <thead>\n",
       "    <tr style=\"text-align: right;\">\n",
       "      <th></th>\n",
       "      <th>Credit Card</th>\n",
       "      <th>CC Security Code</th>\n",
       "      <th>Purchase Price</th>\n",
       "    </tr>\n",
       "  </thead>\n",
       "  <tbody>\n",
       "    <tr>\n",
       "      <th>count</th>\n",
       "      <td>1.771000e+03</td>\n",
       "      <td>1770.000000</td>\n",
       "      <td>1770.000000</td>\n",
       "    </tr>\n",
       "    <tr>\n",
       "      <th>mean</th>\n",
       "      <td>2.300673e+15</td>\n",
       "      <td>876.376271</td>\n",
       "      <td>50.014153</td>\n",
       "    </tr>\n",
       "    <tr>\n",
       "      <th>std</th>\n",
       "      <td>2.292999e+15</td>\n",
       "      <td>1558.359699</td>\n",
       "      <td>28.940997</td>\n",
       "    </tr>\n",
       "    <tr>\n",
       "      <th>min</th>\n",
       "      <td>6.304000e+03</td>\n",
       "      <td>1.000000</td>\n",
       "      <td>0.030000</td>\n",
       "    </tr>\n",
       "    <tr>\n",
       "      <th>25%</th>\n",
       "      <td>3.049768e+13</td>\n",
       "      <td>281.000000</td>\n",
       "      <td>24.305000</td>\n",
       "    </tr>\n",
       "    <tr>\n",
       "      <th>50%</th>\n",
       "      <td>8.699756e+14</td>\n",
       "      <td>540.500000</td>\n",
       "      <td>50.640000</td>\n",
       "    </tr>\n",
       "    <tr>\n",
       "      <th>75%</th>\n",
       "      <td>4.529728e+15</td>\n",
       "      <td>807.000000</td>\n",
       "      <td>75.295000</td>\n",
       "    </tr>\n",
       "    <tr>\n",
       "      <th>max</th>\n",
       "      <td>6.012000e+15</td>\n",
       "      <td>9988.000000</td>\n",
       "      <td>99.790000</td>\n",
       "    </tr>\n",
       "  </tbody>\n",
       "</table>\n",
       "</div>"
      ],
      "text/plain": [
       "        Credit Card  CC Security Code  Purchase Price\n",
       "count  1.771000e+03       1770.000000     1770.000000\n",
       "mean   2.300673e+15        876.376271       50.014153\n",
       "std    2.292999e+15       1558.359699       28.940997\n",
       "min    6.304000e+03          1.000000        0.030000\n",
       "25%    3.049768e+13        281.000000       24.305000\n",
       "50%    8.699756e+14        540.500000       50.640000\n",
       "75%    4.529728e+15        807.000000       75.295000\n",
       "max    6.012000e+15       9988.000000       99.790000"
      ]
     },
     "execution_count": 6,
     "metadata": {},
     "output_type": "execute_result"
    }
   ],
   "source": [
    "df.describe()"
   ]
  },
  {
   "cell_type": "code",
   "execution_count": 7,
   "metadata": {},
   "outputs": [
    {
     "data": {
      "text/plain": [
       "1771"
      ]
     },
     "execution_count": 7,
     "metadata": {},
     "output_type": "execute_result"
    }
   ],
   "source": [
    "len(df)"
   ]
  },
  {
   "cell_type": "code",
   "execution_count": 8,
   "metadata": {},
   "outputs": [
    {
     "data": {
      "text/plain": [
       "24794"
      ]
     },
     "execution_count": 8,
     "metadata": {},
     "output_type": "execute_result"
    }
   ],
   "source": [
    "df.size"
   ]
  },
  {
   "cell_type": "code",
   "execution_count": 9,
   "metadata": {},
   "outputs": [
    {
     "data": {
      "text/plain": [
       "Address             0\n",
       "Lot                 0\n",
       "AM or PM            0\n",
       "Browser Info        0\n",
       "Company             0\n",
       "Credit Card         0\n",
       "CC Exp Date         1\n",
       "CC Security Code    1\n",
       "CC Provider         1\n",
       "Email               1\n",
       "Job                 1\n",
       "IP Address          1\n",
       "Language            1\n",
       "Purchase Price      1\n",
       "dtype: int64"
      ]
     },
     "execution_count": 9,
     "metadata": {},
     "output_type": "execute_result"
    }
   ],
   "source": [
    "df.isnull().sum()"
   ]
  },
  {
   "cell_type": "code",
   "execution_count": 10,
   "metadata": {},
   "outputs": [
    {
     "data": {
      "text/plain": [
       "Address             0\n",
       "Lot                 0\n",
       "AM or PM            0\n",
       "Browser Info        0\n",
       "Company             0\n",
       "Credit Card         0\n",
       "CC Exp Date         0\n",
       "CC Security Code    0\n",
       "CC Provider         0\n",
       "Email               0\n",
       "Job                 0\n",
       "IP Address          0\n",
       "Language            0\n",
       "Purchase Price      0\n",
       "dtype: int64"
      ]
     },
     "execution_count": 10,
     "metadata": {},
     "output_type": "execute_result"
    }
   ],
   "source": [
    "df[df.Language == 'en'].isnull().sum()"
   ]
  },
  {
   "cell_type": "code",
   "execution_count": 11,
   "metadata": {},
   "outputs": [
    {
     "data": {
      "text/plain": [
       "50.014152542372884"
      ]
     },
     "execution_count": 11,
     "metadata": {},
     "output_type": "execute_result"
    }
   ],
   "source": [
    "df['Purchase Price'].mean()"
   ]
  },
  {
   "cell_type": "code",
   "execution_count": 12,
   "metadata": {},
   "outputs": [
    {
     "data": {
      "text/plain": [
       "88525.05"
      ]
     },
     "execution_count": 12,
     "metadata": {},
     "output_type": "execute_result"
    }
   ],
   "source": [
    "df['Purchase Price'].sum()"
   ]
  },
  {
   "cell_type": "code",
   "execution_count": 13,
   "metadata": {},
   "outputs": [
    {
     "data": {
      "text/plain": [
       "0.03"
      ]
     },
     "execution_count": 13,
     "metadata": {},
     "output_type": "execute_result"
    }
   ],
   "source": [
    "df['Purchase Price'].min()"
   ]
  },
  {
   "cell_type": "code",
   "execution_count": 14,
   "metadata": {},
   "outputs": [
    {
     "data": {
      "text/plain": [
       "99.79"
      ]
     },
     "execution_count": 14,
     "metadata": {},
     "output_type": "execute_result"
    }
   ],
   "source": [
    "df['Purchase Price'].max()"
   ]
  },
  {
   "cell_type": "code",
   "execution_count": 15,
   "metadata": {},
   "outputs": [
    {
     "name": "stdout",
     "output_type": "stream",
     "text": [
      "<class 'pandas.core.frame.DataFrame'>\n",
      "Int64Index: 0 entries\n",
      "Data columns (total 14 columns):\n",
      " #   Column            Non-Null Count  Dtype  \n",
      "---  ------            --------------  -----  \n",
      " 0   Address           0 non-null      object \n",
      " 1   Lot               0 non-null      object \n",
      " 2   AM or PM          0 non-null      object \n",
      " 3   Browser Info      0 non-null      object \n",
      " 4   Company           0 non-null      object \n",
      " 5   Credit Card       0 non-null      int64  \n",
      " 6   CC Exp Date       0 non-null      object \n",
      " 7   CC Security Code  0 non-null      float64\n",
      " 8   CC Provider       0 non-null      object \n",
      " 9   Email             0 non-null      object \n",
      " 10  Job               0 non-null      object \n",
      " 11  IP Address        0 non-null      object \n",
      " 12  Language          0 non-null      object \n",
      " 13  Purchase Price    0 non-null      float64\n",
      "dtypes: float64(2), int64(1), object(11)\n",
      "memory usage: 0.0+ bytes\n"
     ]
    }
   ],
   "source": [
    "df[df.Job == \"Lawyer\".upper()].info()"
   ]
  },
  {
   "cell_type": "code",
   "execution_count": 16,
   "metadata": {},
   "outputs": [
    {
     "data": {
      "text/plain": [
       "Planning and development surveyor       8\n",
       "Air cabin crew                          8\n",
       "Therapist, sports                       8\n",
       "Interior and spatial designer           7\n",
       "Control and instrumentation engineer    7\n",
       "Risk analyst                            7\n",
       "Graphic designer                        7\n",
       "Call centre manager                     7\n",
       "Musician                                7\n",
       "Minerals surveyor                       7\n",
       "Name: Job, dtype: int64"
      ]
     },
     "execution_count": 16,
     "metadata": {},
     "output_type": "execute_result"
    }
   ],
   "source": [
    "# 10 most common job titles\n",
    "df['Job'].value_counts().head(10)"
   ]
  },
  {
   "cell_type": "code",
   "execution_count": 17,
   "metadata": {},
   "outputs": [
    {
     "data": {
      "text/plain": [
       "Health service manager                               1\n",
       "Podiatrist                                           1\n",
       "Ship broker                                          1\n",
       "Historic buildings inspector/conservation officer    1\n",
       "Patent examiner                                      1\n",
       "Psychotherapist                                      1\n",
       "Investment analyst                                   1\n",
       "Naval architect                                      1\n",
       "Systems analyst                                      1\n",
       "Logistics and distribution manager                   1\n",
       "Name: Job, dtype: int64"
      ]
     },
     "execution_count": 17,
     "metadata": {},
     "output_type": "execute_result"
    }
   ],
   "source": [
    "# 10 least common job titles\n",
    "df.Job.value_counts().tail(10)"
   ]
  },
  {
   "cell_type": "code",
   "execution_count": 18,
   "metadata": {},
   "outputs": [
    {
     "data": {
      "text/plain": [
       "1234    bondellen@williams-garza.com\n",
       "Name: Email, dtype: object"
      ]
     },
     "execution_count": 18,
     "metadata": {},
     "output_type": "execute_result"
    }
   ],
   "source": [
    "df[df['Credit Card'] == 4926535242672853].Email"
   ]
  },
  {
   "cell_type": "code",
   "execution_count": 19,
   "metadata": {},
   "outputs": [
    {
     "data": {
      "text/plain": [
       "Index(['Address', 'Lot', 'AM or PM', 'Browser Info', 'Company', 'Credit Card',\n",
       "       'CC Exp Date', 'CC Security Code', 'CC Provider', 'Email', 'Job',\n",
       "       'IP Address', 'Language', 'Purchase Price'],\n",
       "      dtype='object')"
      ]
     },
     "execution_count": 19,
     "metadata": {},
     "output_type": "execute_result"
    }
   ],
   "source": [
    "df.columns"
   ]
  },
  {
   "cell_type": "code",
   "execution_count": 20,
   "metadata": {},
   "outputs": [
    {
     "data": {
      "text/plain": [
       "1234    Planning and development surveyor\n",
       "Name: Job, dtype: object"
      ]
     },
     "execution_count": 20,
     "metadata": {},
     "output_type": "execute_result"
    }
   ],
   "source": [
    "df[df['Credit Card'] == 4926535242672853].Job"
   ]
  },
  {
   "cell_type": "code",
   "execution_count": 21,
   "metadata": {},
   "outputs": [
    {
     "data": {
      "text/html": [
       "<div>\n",
       "<style scoped>\n",
       "    .dataframe tbody tr th:only-of-type {\n",
       "        vertical-align: middle;\n",
       "    }\n",
       "\n",
       "    .dataframe tbody tr th {\n",
       "        vertical-align: top;\n",
       "    }\n",
       "\n",
       "    .dataframe thead th {\n",
       "        text-align: right;\n",
       "    }\n",
       "</style>\n",
       "<table border=\"1\" class=\"dataframe\">\n",
       "  <thead>\n",
       "    <tr style=\"text-align: right;\">\n",
       "      <th></th>\n",
       "      <th>Address</th>\n",
       "      <th>Lot</th>\n",
       "      <th>AM or PM</th>\n",
       "      <th>Browser Info</th>\n",
       "      <th>Company</th>\n",
       "      <th>Credit Card</th>\n",
       "      <th>CC Exp Date</th>\n",
       "      <th>CC Security Code</th>\n",
       "      <th>CC Provider</th>\n",
       "      <th>Email</th>\n",
       "      <th>Job</th>\n",
       "      <th>IP Address</th>\n",
       "      <th>Language</th>\n",
       "      <th>Purchase Price</th>\n",
       "    </tr>\n",
       "  </thead>\n",
       "  <tbody>\n",
       "    <tr>\n",
       "      <th>9</th>\n",
       "      <td>3795 Dawson Extensions\\nLake Tinafort, ID 88739</td>\n",
       "      <td>15 Ug</td>\n",
       "      <td>AM</td>\n",
       "      <td>Mozilla/5.0 (X11; Linux i686; rv:1.9.7.20) Gec...</td>\n",
       "      <td>Rivera, Buchanan and Ramirez</td>\n",
       "      <td>4396283918371</td>\n",
       "      <td>01/17</td>\n",
       "      <td>931.0</td>\n",
       "      <td>American Express</td>\n",
       "      <td>qcoleman@hunt-huerta.com</td>\n",
       "      <td>Forensic scientist</td>\n",
       "      <td>236.198.199.8</td>\n",
       "      <td>zh</td>\n",
       "      <td>95.63</td>\n",
       "    </tr>\n",
       "    <tr>\n",
       "      <th>280</th>\n",
       "      <td>81060 Dustin Causeway Apt. 503\\nPort Danielche...</td>\n",
       "      <td>80 zh</td>\n",
       "      <td>PM</td>\n",
       "      <td>Mozilla/5.0 (Windows NT 5.01) AppleWebKit/5362...</td>\n",
       "      <td>Clay PLC</td>\n",
       "      <td>377737470673585</td>\n",
       "      <td>10/17</td>\n",
       "      <td>349.0</td>\n",
       "      <td>American Express</td>\n",
       "      <td>hfarley@hicks.com</td>\n",
       "      <td>Ergonomist</td>\n",
       "      <td>134.52.148.32</td>\n",
       "      <td>de</td>\n",
       "      <td>99.13</td>\n",
       "    </tr>\n",
       "    <tr>\n",
       "      <th>372</th>\n",
       "      <td>359 Stanley Coves\\nSalasfort, SD 59457</td>\n",
       "      <td>75 Ub</td>\n",
       "      <td>PM</td>\n",
       "      <td>Opera/8.42.(X11; Linux x86_64; en-US) Presto/2...</td>\n",
       "      <td>Davis-Lawrence</td>\n",
       "      <td>371995567939253</td>\n",
       "      <td>02/26</td>\n",
       "      <td>1877.0</td>\n",
       "      <td>American Express</td>\n",
       "      <td>amberhull@jones.net</td>\n",
       "      <td>Training and development officer</td>\n",
       "      <td>198.98.34.250</td>\n",
       "      <td>pt</td>\n",
       "      <td>99.08</td>\n",
       "    </tr>\n",
       "    <tr>\n",
       "      <th>677</th>\n",
       "      <td>4855 Peter Bridge\\nJohnsonberg, PA 90599-0009</td>\n",
       "      <td>62 Nx</td>\n",
       "      <td>AM</td>\n",
       "      <td>Opera/9.49.(Windows 98; Win 9x 4.90; en-US) Pr...</td>\n",
       "      <td>Jones and Sons</td>\n",
       "      <td>4960556611626434</td>\n",
       "      <td>07/26</td>\n",
       "      <td>9255.0</td>\n",
       "      <td>American Express</td>\n",
       "      <td>evanskayla@fernandez.com</td>\n",
       "      <td>Plant breeder/geneticist</td>\n",
       "      <td>235.97.240.112</td>\n",
       "      <td>el</td>\n",
       "      <td>98.97</td>\n",
       "    </tr>\n",
       "    <tr>\n",
       "      <th>766</th>\n",
       "      <td>386 Alisha Unions\\nSteelebury, ND 19782</td>\n",
       "      <td>28 pJ</td>\n",
       "      <td>PM</td>\n",
       "      <td>Opera/8.47.(X11; Linux x86_64; sl-SI) Presto/2...</td>\n",
       "      <td>Proctor PLC</td>\n",
       "      <td>30325623350308</td>\n",
       "      <td>04/24</td>\n",
       "      <td>772.0</td>\n",
       "      <td>American Express</td>\n",
       "      <td>robertsonjulia@gmail.com</td>\n",
       "      <td>Therapist, art</td>\n",
       "      <td>146.208.30.83</td>\n",
       "      <td>es</td>\n",
       "      <td>96.66</td>\n",
       "    </tr>\n",
       "    <tr>\n",
       "      <th>1225</th>\n",
       "      <td>916 Amanda Heights\\nNew Johnland, CA 52112-8572</td>\n",
       "      <td>09 vg</td>\n",
       "      <td>PM</td>\n",
       "      <td>Mozilla/5.0 (X11; Linux i686; rv:1.9.7.20) Gec...</td>\n",
       "      <td>Clark, Ross and Travis</td>\n",
       "      <td>371229555854245</td>\n",
       "      <td>10/21</td>\n",
       "      <td>366.0</td>\n",
       "      <td>American Express</td>\n",
       "      <td>lawrencecarter@kelly.com</td>\n",
       "      <td>Artist</td>\n",
       "      <td>88.49.59.205</td>\n",
       "      <td>pt</td>\n",
       "      <td>96.55</td>\n",
       "    </tr>\n",
       "    <tr>\n",
       "      <th>1381</th>\n",
       "      <td>79284 Lisa Mews Suite 069\\nKellyborough, CT 71...</td>\n",
       "      <td>45 MR</td>\n",
       "      <td>PM</td>\n",
       "      <td>Mozilla/5.0 (Macintosh; PPC Mac OS X 10_5_5; r...</td>\n",
       "      <td>Randall-Cohen</td>\n",
       "      <td>4855262855037</td>\n",
       "      <td>05/17</td>\n",
       "      <td>518.0</td>\n",
       "      <td>American Express</td>\n",
       "      <td>maldonadomichael@martinez-delgado.info</td>\n",
       "      <td>Geophysical data processor</td>\n",
       "      <td>50.40.147.204</td>\n",
       "      <td>it</td>\n",
       "      <td>96.11</td>\n",
       "    </tr>\n",
       "    <tr>\n",
       "      <th>1385</th>\n",
       "      <td>67796 James Keys Suite 656\\nSouth Katieshire, ...</td>\n",
       "      <td>06 ia</td>\n",
       "      <td>PM</td>\n",
       "      <td>Mozilla/5.0 (Windows NT 5.1) AppleWebKit/5330 ...</td>\n",
       "      <td>Gonzalez, Gross and Allen</td>\n",
       "      <td>30407332938506</td>\n",
       "      <td>12/20</td>\n",
       "      <td>597.0</td>\n",
       "      <td>American Express</td>\n",
       "      <td>vbrown@daugherty.com</td>\n",
       "      <td>Geophysical data processor</td>\n",
       "      <td>152.133.246.191</td>\n",
       "      <td>zh</td>\n",
       "      <td>98.89</td>\n",
       "    </tr>\n",
       "    <tr>\n",
       "      <th>1568</th>\n",
       "      <td>76108 Barker Manors\\nEast Amy, PW 49544-5921</td>\n",
       "      <td>82 Qw</td>\n",
       "      <td>AM</td>\n",
       "      <td>Mozilla/5.0 (X11; Linux x86_64) AppleWebKit/53...</td>\n",
       "      <td>Nguyen, Branch and Wiley</td>\n",
       "      <td>5142451859832464</td>\n",
       "      <td>04/21</td>\n",
       "      <td>785.0</td>\n",
       "      <td>American Express</td>\n",
       "      <td>johnsonjulie@yahoo.com</td>\n",
       "      <td>Insurance claims handler</td>\n",
       "      <td>175.248.232.126</td>\n",
       "      <td>es</td>\n",
       "      <td>97.04</td>\n",
       "    </tr>\n",
       "    <tr>\n",
       "      <th>1727</th>\n",
       "      <td>478 Anita Hill Apt. 766\\nAverymouth, FM 50629-...</td>\n",
       "      <td>94 qM</td>\n",
       "      <td>AM</td>\n",
       "      <td>Mozilla/5.0 (X11; Linux x86_64) AppleWebKit/53...</td>\n",
       "      <td>Owen and Sons</td>\n",
       "      <td>30242757909967</td>\n",
       "      <td>11/19</td>\n",
       "      <td>7403.0</td>\n",
       "      <td>American Express</td>\n",
       "      <td>sharpmelanie@smith-johnson.com</td>\n",
       "      <td>Psychologist, prison and probation services</td>\n",
       "      <td>126.47.196.22</td>\n",
       "      <td>ru</td>\n",
       "      <td>95.58</td>\n",
       "    </tr>\n",
       "  </tbody>\n",
       "</table>\n",
       "</div>"
      ],
      "text/plain": [
       "                                                Address    Lot AM or PM  \\\n",
       "9       3795 Dawson Extensions\\nLake Tinafort, ID 88739  15 Ug       AM   \n",
       "280   81060 Dustin Causeway Apt. 503\\nPort Danielche...  80 zh       PM   \n",
       "372              359 Stanley Coves\\nSalasfort, SD 59457  75 Ub       PM   \n",
       "677       4855 Peter Bridge\\nJohnsonberg, PA 90599-0009  62 Nx       AM   \n",
       "766             386 Alisha Unions\\nSteelebury, ND 19782  28 pJ       PM   \n",
       "1225    916 Amanda Heights\\nNew Johnland, CA 52112-8572  09 vg       PM   \n",
       "1381  79284 Lisa Mews Suite 069\\nKellyborough, CT 71...  45 MR       PM   \n",
       "1385  67796 James Keys Suite 656\\nSouth Katieshire, ...  06 ia       PM   \n",
       "1568       76108 Barker Manors\\nEast Amy, PW 49544-5921  82 Qw       AM   \n",
       "1727  478 Anita Hill Apt. 766\\nAverymouth, FM 50629-...  94 qM       AM   \n",
       "\n",
       "                                           Browser Info  \\\n",
       "9     Mozilla/5.0 (X11; Linux i686; rv:1.9.7.20) Gec...   \n",
       "280   Mozilla/5.0 (Windows NT 5.01) AppleWebKit/5362...   \n",
       "372   Opera/8.42.(X11; Linux x86_64; en-US) Presto/2...   \n",
       "677   Opera/9.49.(Windows 98; Win 9x 4.90; en-US) Pr...   \n",
       "766   Opera/8.47.(X11; Linux x86_64; sl-SI) Presto/2...   \n",
       "1225  Mozilla/5.0 (X11; Linux i686; rv:1.9.7.20) Gec...   \n",
       "1381  Mozilla/5.0 (Macintosh; PPC Mac OS X 10_5_5; r...   \n",
       "1385  Mozilla/5.0 (Windows NT 5.1) AppleWebKit/5330 ...   \n",
       "1568  Mozilla/5.0 (X11; Linux x86_64) AppleWebKit/53...   \n",
       "1727  Mozilla/5.0 (X11; Linux x86_64) AppleWebKit/53...   \n",
       "\n",
       "                           Company       Credit Card CC Exp Date  \\\n",
       "9     Rivera, Buchanan and Ramirez     4396283918371       01/17   \n",
       "280                       Clay PLC   377737470673585       10/17   \n",
       "372                 Davis-Lawrence   371995567939253       02/26   \n",
       "677                 Jones and Sons  4960556611626434       07/26   \n",
       "766                    Proctor PLC    30325623350308       04/24   \n",
       "1225        Clark, Ross and Travis   371229555854245       10/21   \n",
       "1381                 Randall-Cohen     4855262855037       05/17   \n",
       "1385     Gonzalez, Gross and Allen    30407332938506       12/20   \n",
       "1568      Nguyen, Branch and Wiley  5142451859832464       04/21   \n",
       "1727                 Owen and Sons    30242757909967       11/19   \n",
       "\n",
       "      CC Security Code       CC Provider  \\\n",
       "9                931.0  American Express   \n",
       "280              349.0  American Express   \n",
       "372             1877.0  American Express   \n",
       "677             9255.0  American Express   \n",
       "766              772.0  American Express   \n",
       "1225             366.0  American Express   \n",
       "1381             518.0  American Express   \n",
       "1385             597.0  American Express   \n",
       "1568             785.0  American Express   \n",
       "1727            7403.0  American Express   \n",
       "\n",
       "                                       Email  \\\n",
       "9                   qcoleman@hunt-huerta.com   \n",
       "280                        hfarley@hicks.com   \n",
       "372                      amberhull@jones.net   \n",
       "677                 evanskayla@fernandez.com   \n",
       "766                 robertsonjulia@gmail.com   \n",
       "1225                lawrencecarter@kelly.com   \n",
       "1381  maldonadomichael@martinez-delgado.info   \n",
       "1385                    vbrown@daugherty.com   \n",
       "1568                  johnsonjulie@yahoo.com   \n",
       "1727          sharpmelanie@smith-johnson.com   \n",
       "\n",
       "                                              Job       IP Address Language  \\\n",
       "9                              Forensic scientist    236.198.199.8       zh   \n",
       "280                                    Ergonomist    134.52.148.32       de   \n",
       "372              Training and development officer    198.98.34.250       pt   \n",
       "677                      Plant breeder/geneticist   235.97.240.112       el   \n",
       "766                                Therapist, art    146.208.30.83       es   \n",
       "1225                                       Artist     88.49.59.205       pt   \n",
       "1381                   Geophysical data processor    50.40.147.204       it   \n",
       "1385                   Geophysical data processor  152.133.246.191       zh   \n",
       "1568                     Insurance claims handler  175.248.232.126       es   \n",
       "1727  Psychologist, prison and probation services    126.47.196.22       ru   \n",
       "\n",
       "      Purchase Price  \n",
       "9              95.63  \n",
       "280            99.13  \n",
       "372            99.08  \n",
       "677            98.97  \n",
       "766            96.66  \n",
       "1225           96.55  \n",
       "1381           96.11  \n",
       "1385           98.89  \n",
       "1568           97.04  \n",
       "1727           95.58  "
      ]
     },
     "execution_count": 21,
     "metadata": {},
     "output_type": "execute_result"
    }
   ],
   "source": [
    "# get a list of everyone who have made a purchase above 95 and whose credit card provider is 'American Express'\n",
    "df[(df['CC Provider'] == 'American Express') & (df['Purchase Price'] > 95)]"
   ]
  },
  {
   "cell_type": "code",
   "execution_count": 22,
   "metadata": {},
   "outputs": [
    {
     "data": {
      "text/plain": [
       "array(['JCB 16 digit', 'Mastercard', 'Discover',\n",
       "       'Diners Club / Carte Blanche', 'VISA 16 digit', 'VISA 13 digit',\n",
       "       'American Express', 'Voyager', 'JCB 15 digit', 'Maestro', nan],\n",
       "      dtype=object)"
      ]
     },
     "execution_count": 22,
     "metadata": {},
     "output_type": "execute_result"
    }
   ],
   "source": [
    "df['CC Provider'].unique()"
   ]
  },
  {
   "cell_type": "code",
   "execution_count": 23,
   "metadata": {},
   "outputs": [
    {
     "data": {
      "text/plain": [
       "Address                                                    Lot    AM or PM  Browser Info                                                                                                                     Company                        Credit Card       CC Exp Date  CC Security Code  CC Provider    Email                        Job                           IP Address       Language  Purchase Price\n",
       "0024 Smith Tunnel Suite 760\\nPort Leeton, CO 85240-0879    52 Eg  PM        Mozilla/5.0 (compatible; MSIE 7.0; Windows NT 6.1; Trident/4.1)                                                                  Lane, Graves and Coleman       3088842158087639  11/25        529.0             VISA 16 digit  perrydavid@gmail.com         Retail banker                 69.198.36.193    fr        0.33              1\n",
       "809 Reginald Parkway Suite 895\\nAvilashire, AR 12143-5287  90 NI  PM        Mozilla/5.0 (Windows; U; Windows NT 5.2) AppleWebKit/532.10.7 (KHTML, like Gecko) Version/4.1 Safari/532.10.7                    Ward, Lee and Robinson         3096304838993165  12/23        801.0             VISA 16 digit  ryandavis@curtis.com         Sales professional, IT        64.52.36.13      de        0.72              1\n",
       "735 Kelly Path Suite 743\\nKaylaland, SC 10887-4567         67 iB  PM        Mozilla/5.0 (Windows CE) AppleWebKit/5352 (KHTML, like Gecko) Chrome/13.0.881.0 Safari/5352                                      Krause-Kim                     342358536004202   06/25        629.0             VISA 16 digit  lisarivera@yahoo.com         Claims inspector/assessor     184.215.52.233   ru        18.59             1\n",
       "74327 Sean Camp Apt. 641\\nSinghchester, IL 06741-3995      34 Oh  AM        Mozilla/5.0 (compatible; MSIE 6.0; Windows NT 5.0; Trident/4.1)                                                                  Wright, Stephenson and Reilly  30366628684986    12/25        924.0             VISA 16 digit  brandon14@dunlap.net         Amenity horticulturist        80.180.57.166    fr        24.10             1\n",
       "75733 Turner Motorway\\nMichaelmouth, LA 60199              04 kL  PM        Mozilla/5.0 (Macintosh; PPC Mac OS X 10_7_9 rv:3.0; sl-SI) AppleWebKit/533.11.7 (KHTML, like Gecko) Version/4.1 Safari/533.11.7  Castillo-Santiago              30164819324177    10/17        9363.0            VISA 16 digit  nicole11@yahoo.com           Risk analyst                  181.15.248.8     es        10.59             1\n",
       "                                                                                                                                                                                                                                                                                                                                                                                                                   ..\n",
       "332 Eric Station Suite 517\\nSanchezton, WA 31574           85 DR  PM        Mozilla/5.0 (compatible; MSIE 9.0; Windows 98; Trident/3.0)                                                                      Wood LLC                       344084359700795   07/24        227.0             VISA 16 digit  kleintroy@mejia.com          Database administrator        22.51.73.234     ru        27.34             1\n",
       "3269 Lee Inlet\\nColonview, NY 82507                        81 QH  AM        Mozilla/5.0 (X11; Linux x86_64) AppleWebKit/5322 (KHTML, like Gecko) Chrome/14.0.891.0 Safari/5322                               Knight and Sons                4106649031763     06/26        1.0               VISA 16 digit  mccoymichelle@gmail.com      Journalist, newspaper         44.13.60.208     es        9.41              1\n",
       "324 Ryan Pike Suite 134\\nJillland, VI 03398                31 nX  AM        Mozilla/5.0 (Windows 98) AppleWebKit/5321 (KHTML, like Gecko) Chrome/14.0.861.0 Safari/5321                                      Turner, Juarez and Barnes      4107899971187     01/17        6113.0            VISA 16 digit  diazronald@gmail.com         Buyer, retail                 76.32.252.85     el        17.65             1\n",
       "3119 Scott Throughway Suite 590\\nCharlesborough, NC 28543  44 QK  AM        Mozilla/5.0 (X11; Linux x86_64) AppleWebKit/5330 (KHTML, like Gecko) Chrome/14.0.806.0 Safari/5330                               Ortiz and Sons                 4689681072647     08/23        73.0              VISA 16 digit  jilliancarr@fleming.info     Teacher, secondary school     217.203.235.236  ru        46.63             1\n",
       "Unit 9759 Box 0499\\nDPO AP 33492                           62 so  AM        Mozilla/5.0 (X11; Linux x86_64; rv:1.9.7.20) Gecko/2016-05-03 15:51:15 Firefox/3.6.3                                             Keller Group                   6011355519082954  10/24        105.0             VISA 16 digit  melissamckenzie@edwards.com  Trade union research officer  144.192.61.166   en        11.74             1\n",
       "Length: 136, dtype: int64"
      ]
     },
     "execution_count": 23,
     "metadata": {},
     "output_type": "execute_result"
    }
   ],
   "source": [
    "df[(df['CC Provider'] == 'VISA 16 digit') & (df['Purchase Price'] < 50)].value_counts()"
   ]
  },
  {
   "cell_type": "code",
   "execution_count": null,
   "metadata": {},
   "outputs": [],
   "source": []
  }
 ],
 "metadata": {
  "interpreter": {
   "hash": "aee8b7b246df8f9039afb4144a1f6fd8d2ca17a180786b69acc140d282b71a49"
  },
  "kernelspec": {
   "display_name": "Python 3.9.1 64-bit",
   "name": "python3"
  },
  "language_info": {
   "codemirror_mode": {
    "name": "ipython",
    "version": 3
   },
   "file_extension": ".py",
   "mimetype": "text/x-python",
   "name": "python",
   "nbconvert_exporter": "python",
   "pygments_lexer": "ipython3",
   "version": "3.9.1"
  },
  "orig_nbformat": 4
 },
 "nbformat": 4,
 "nbformat_minor": 2
}
